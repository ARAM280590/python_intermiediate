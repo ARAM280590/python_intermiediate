{
 "cells": [
  {
   "cell_type": "code",
   "execution_count": 12,
   "id": "6f346adc",
   "metadata": {},
   "outputs": [],
   "source": [
    "from pathlib import Path"
   ]
  },
  {
   "cell_type": "code",
   "execution_count": 11,
   "id": "16f177eb",
   "metadata": {},
   "outputs": [
    {
     "name": "stdout",
     "output_type": "stream",
     "text": [
      "/Users/aramkarakhanyan/Desktop/python_intermiediate/file_extension\n"
     ]
    }
   ],
   "source": [
    "print(Path.cwd())"
   ]
  },
  {
   "cell_type": "code",
   "execution_count": null,
   "id": "538fce04",
   "metadata": {},
   "outputs": [
    {
     "name": "stdout",
     "output_type": "stream",
     "text": [
      "<class 'dict'>\n"
     ]
    }
   ],
   "source": [
    "#folder_path = input('Enter the path of your folder: ')\n",
    "number_of_each = {}\n"
   ]
  },
  {
   "cell_type": "code",
   "execution_count": 2,
   "id": "6ad1c253",
   "metadata": {},
   "outputs": [],
   "source": [
    "import os\n",
    "import json\n",
    "from collections import defaultdict"
   ]
  },
  {
   "cell_type": "code",
   "execution_count": 4,
   "id": "78713e26",
   "metadata": {},
   "outputs": [
    {
     "name": "stdout",
     "output_type": "stream",
     "text": [
      "File distribution saved and returned:\n",
      "{'.pyc': 3, '.py': 8, '.json': 1, '.ipynb': 19, '.csv': 2}\n"
     ]
    }
   ],
   "source": [
    "def get_file_distribution_by_type(folder_path):\n",
    "    file_distribution = defaultdict(int)\n",
    "\n",
    "    # Walk through all directories and files in the given folder path\n",
    "    for root, dirs, files in os.walk(folder_path):\n",
    "        for file in files:\n",
    "            _, ext = os.path.splitext(file)\n",
    "            if ext:  # Only consider files with an extension\n",
    "                file_distribution[ext.lower()] += 1\n",
    "\n",
    "    # Sort the dictionary by file extension in descending alphabetical order\n",
    "    sorted_distribution = dict(sorted(file_distribution.items(), key=lambda x: x[0], reverse=True))\n",
    "\n",
    "    # Save to JSON file in the same directory\n",
    "    output_path = os.path.join(folder_path, 'file_distribution.json')\n",
    "    with open(output_path, 'w') as json_file:\n",
    "        json.dump(sorted_distribution, json_file, indent=4)\n",
    "\n",
    "    return sorted_distribution\n",
    "\n",
    "# Example usage:\n",
    "if __name__ == \"__main__\":\n",
    "    folder_path = '/Users/aramkarakhanyan/Desktop/lessonpy1'  \n",
    "    if os.path.isdir(folder_path):\n",
    "        result = get_file_distribution_by_type(folder_path)\n",
    "        print(\"File distribution saved and returned:\")\n",
    "        print(result)\n",
    "    else:\n",
    "        print(\"Invalid folder path. Please provide a valid directory.\")\n"
   ]
  }
 ],
 "metadata": {
  "kernelspec": {
   "display_name": "mini_projects",
   "language": "python",
   "name": "python3"
  },
  "language_info": {
   "codemirror_mode": {
    "name": "ipython",
    "version": 3
   },
   "file_extension": ".py",
   "mimetype": "text/x-python",
   "name": "python",
   "nbconvert_exporter": "python",
   "pygments_lexer": "ipython3",
   "version": "3.12.7"
  }
 },
 "nbformat": 4,
 "nbformat_minor": 5
}
