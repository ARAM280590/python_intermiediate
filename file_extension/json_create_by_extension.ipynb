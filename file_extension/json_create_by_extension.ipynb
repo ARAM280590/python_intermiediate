{
 "cells": [
  {
   "cell_type": "code",
   "execution_count": 2,
   "id": "5a8dcbac",
   "metadata": {},
   "outputs": [],
   "source": [
    "import os #working with file directories\n",
    "import json #at the end make a json file \n",
    "from collections import defaultdict #in cases where there is a new key give 0 default value "
   ]
  },
  {
   "cell_type": "code",
   "execution_count": 3,
   "id": "54c7dc2d",
   "metadata": {},
   "outputs": [],
   "source": [
    "folder_path = os.getcwd() #executing on current working directory,however folder_path can be any directory"
   ]
  },
  {
   "cell_type": "code",
   "execution_count": 4,
   "id": "5494d900",
   "metadata": {},
   "outputs": [],
   "source": [
    "def extension_based_sort(folder_path):\n",
    "    files_distribution = defaultdict(int) \n",
    "\n",
    "    for file in os.listdir(folder_path):\n",
    "        _,ext = os.path.splitext(file)\n",
    "        files_distribution[ext]+=1\n",
    "    sorted_files_distribution = dict(sorted(files_distribution.items(),reverse=True))\n",
    "    output_path = os.path.join(folder_path,'file_extension.json')\n",
    "    with open(output_path,'w') as f:\n",
    "        json.dump(files_distribution,f,indent=4)\n",
    "extension_based_sort(folder_path)   \n"
   ]
  }
 ],
 "metadata": {
  "kernelspec": {
   "display_name": "mini_projects",
   "language": "python",
   "name": "python3"
  },
  "language_info": {
   "codemirror_mode": {
    "name": "ipython",
    "version": 3
   },
   "file_extension": ".py",
   "mimetype": "text/x-python",
   "name": "python",
   "nbconvert_exporter": "python",
   "pygments_lexer": "ipython3",
   "version": "3.12.7"
  }
 },
 "nbformat": 4,
 "nbformat_minor": 5
}
