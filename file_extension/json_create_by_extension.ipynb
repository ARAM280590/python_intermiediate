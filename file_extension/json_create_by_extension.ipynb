{
 "cells": [
  {
   "cell_type": "markdown",
   "id": "901f2447",
   "metadata": {},
   "source": [
    "inporting all the required libraries\n"
   ]
  },
  {
   "cell_type": "code",
   "execution_count": 1,
   "id": "5a8dcbac",
   "metadata": {},
   "outputs": [],
   "source": [
    "import os #working with file directories\n",
    "import json #at the end make a json file \n",
    "from collections import defaultdict #in cases where there is a new key give 0 default value "
   ]
  },
  {
   "cell_type": "markdown",
   "id": "a3c1f409",
   "metadata": {},
   "source": [
    "folder_path can be any, in the example it is used the current working directory"
   ]
  },
  {
   "cell_type": "code",
   "execution_count": 2,
   "id": "54c7dc2d",
   "metadata": {},
   "outputs": [],
   "source": [
    "folder_path = os.getcwd() #executing on current working directory,however folder_path can be any directory"
   ]
  },
  {
   "cell_type": "markdown",
   "id": "d82509c9",
   "metadata": {},
   "source": [
    "1st part of the program that creates json file and,where keys are file extensions and corresponding values are their frequency in the folder "
   ]
  },
  {
   "cell_type": "code",
   "execution_count": null,
   "id": "5494d900",
   "metadata": {},
   "outputs": [],
   "source": [
    "def extension_based_sort(folder_path):\n",
    "    files_distribution = defaultdict(int) \n",
    "\n",
    "    for file in os.listdir(folder_path):\n",
    "        _,ext = os.path.splitext(file)\n",
    "        files_distribution[ext]+=1\n",
    "    sorted_files_distribution = dict(sorted(files_distribution.items(),reverse=True))\n",
    "    output_path = os.path.join(folder_path,'file_extension.json')\n",
    "    with open(output_path,'w') as f:\n",
    "        json.dump(files_distribution,f,indent=4)\n",
    "        \n",
    "extension_based_sort(folder_path)    \n"
   ]
  },
  {
   "cell_type": "markdown",
   "id": "9093882d",
   "metadata": {},
   "source": [
    "2nd part which will create \".json\" format file , where keys are the file sizes and values are the file paths .in the end it should be listed in descending order "
   ]
  },
  {
   "cell_type": "code",
   "execution_count": 10,
   "id": "146936b2",
   "metadata": {},
   "outputs": [],
   "source": [
    "def files_sized_sort(folder_path):\n",
    "    files_sizes = {}\n",
    "    for file in os.listdir(folder_path):\n",
    "        full_path = os.path.join(folder_path,file)\n",
    "        files_sizes[file] = os.path.getsize(full_path)\n",
    "    sorted_file_size = dict(sorted(files_sizes.items(),key =lambda x: x[1],reverse=True))\n",
    "    output_path = os.path.join(folder_path,'sorted_files.json') \n",
    "    with open(output_path,'w') as f:\n",
    "        json.dump(sorted_file_size,f,indent=4)\n",
    "\n",
    "files_sized_sort(folder_path)\n",
    "\n",
    "\n",
    "\n"
   ]
  }
 ],
 "metadata": {
  "kernelspec": {
   "display_name": "Python (mini_projects)",
   "language": "python",
   "name": "mini_projects"
  },
  "language_info": {
   "codemirror_mode": {
    "name": "ipython",
    "version": 3
   },
   "file_extension": ".py",
   "mimetype": "text/x-python",
   "name": "python",
   "nbconvert_exporter": "python",
   "pygments_lexer": "ipython3",
   "version": "3.12.7"
  }
 },
 "nbformat": 4,
 "nbformat_minor": 5
}
